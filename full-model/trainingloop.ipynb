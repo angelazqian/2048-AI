{
 "cells": [
  {
   "cell_type": "markdown",
   "metadata": {},
   "source": [
    "# Imitation Learning with RL Finetuning through Self-Play"
   ]
  },
  {
   "cell_type": "markdown",
   "metadata": {},
   "source": [
    "# Import and Split Training Data"
   ]
  },
  {
   "cell_type": "code",
   "execution_count": 1,
   "metadata": {},
   "outputs": [],
   "source": [
    "import numpy as np\n",
    "from sklearn.model_selection import train_test_split\n",
    "import json\n",
    "import os\n",
    "\n",
    "data_dir = \"../data/\"\n",
    "X = []\n",
    "Y = []\n",
    "\n",
    "for subdir in os.listdir(data_dir):\n",
    "    subdir_path = os.path.join(data_dir, subdir)\n",
    "    for file_name in os.listdir(subdir_path):\n",
    "        file_path = os.path.join(subdir_path, file_name)\n",
    "        with open(file_path, \"r\") as file:\n",
    "            for line in file:\n",
    "                data = json.loads(line.strip())\n",
    "                if \"state\" in data and \"action\" in data:\n",
    "                    X.append(data[\"state\"])\n",
    "                    Y.append(data[\"action\"])\n",
    "X = np.array(X)\n",
    "X[X > 0] = np.log2(X[X > 0])    #replace with log2 for simplicity\n",
    "\n",
    "X_train, X_test, y_train, y_test = train_test_split(X, Y, test_size=.33, random_state=26)\n",
    "X_train = np.array(X_train)\n",
    "X_test = np.array(X_test)\n",
    "y_train = np.array(y_train)\n",
    "y_test = np.array(y_test)\n",
    "\n",
    "X_train = np.array(X)\n",
    "y_train = np.array(Y)   #overwrite with full dataset for training"
   ]
  },
  {
   "cell_type": "markdown",
   "metadata": {},
   "source": [
    "# Convert NumPy Arrays to PyTorch Tensors"
   ]
  },
  {
   "cell_type": "code",
   "execution_count": 2,
   "metadata": {},
   "outputs": [
    {
     "name": "stdout",
     "output_type": "stream",
     "text": [
      "Batch: 1\n",
      "X shape: torch.Size([64, 1, 4, 4])\n",
      "y shape: torch.Size([64])\n"
     ]
    }
   ],
   "source": [
    "import torch\n",
    "from torch.utils.data import Dataset, DataLoader\n",
    "\n",
    "#convert data to torch tensors\n",
    "class Data(Dataset):\n",
    "    def __init__(self, X, y):   #reshape to fit CNN input, -1 to auto infer batch size, 1 for single channel\n",
    "        self.X = torch.from_numpy(X.astype(np.float32)).reshape(-1, 1, 4, 4)\n",
    "        self.y = torch.from_numpy(y.astype(np.float32))\n",
    "        self.len = self.X.shape[0]\n",
    "       \n",
    "    def __getitem__(self, index):\n",
    "        return self.X[index], self.y[index]\n",
    "   \n",
    "    def __len__(self):\n",
    "        return self.len\n",
    "   \n",
    "batch_size = 64\n",
    "\n",
    "#instantiate training and test data\n",
    "train_data = Data(X_train, y_train)\n",
    "train_dataloader = DataLoader(dataset=train_data, batch_size=batch_size, shuffle=True)\n",
    "\n",
    "test_data = Data(X_test, y_test)\n",
    "test_dataloader = DataLoader(dataset=test_data, batch_size=batch_size, shuffle=True)\n",
    "\n",
    "#sanity check\n",
    "for batch, (X, y) in enumerate(train_dataloader):\n",
    "    print(f\"Batch: {batch+1}\")\n",
    "    print(f\"X shape: {X.shape}\")\n",
    "    print(f\"y shape: {y.shape}\")\n",
    "    break"
   ]
  },
  {
   "cell_type": "markdown",
   "metadata": {},
   "source": [
    "# Neural Network Implementation"
   ]
  },
  {
   "cell_type": "code",
   "execution_count": 3,
   "metadata": {},
   "outputs": [
    {
     "name": "stdout",
     "output_type": "stream",
     "text": [
      "CNN(\n",
      "  (conv1): Conv2d(1, 64, kernel_size=(2, 2), stride=(1, 1))\n",
      "  (conv2): Conv2d(64, 128, kernel_size=(2, 2), stride=(1, 1))\n",
      "  (fc1): Linear(in_features=512, out_features=128, bias=True)\n",
      "  (fc2): Linear(in_features=128, out_features=4, bias=True)\n",
      ")\n"
     ]
    }
   ],
   "source": [
    "import torch\n",
    "from torch import nn\n",
    "from torch import optim\n",
    "\n",
    "input_dim = 16\n",
    "hidden_dim1 = 256\n",
    "hidden_dim2 = 128\n",
    "output_dim = 4\n",
    "\n",
    "# class NeuralNetwork(nn.Module):\n",
    "#     def __init__(self, input_dim, hidden_dim1, hidden_dim2, output_dim):\n",
    "#         super(NeuralNetwork, self).__init__()\n",
    "#         self.layer_1 = nn.Linear(input_dim, hidden_dim1)\n",
    "#         nn.init.kaiming_uniform_(self.layer_1.weight, nonlinearity=\"relu\")\n",
    "#         self.layer_2 = nn.Linear(hidden_dim1, hidden_dim2)\n",
    "#         nn.init.kaiming_uniform_(self.layer_2.weight, nonlinearity=\"relu\")\n",
    "#         self.layer_3 = nn.Linear(hidden_dim2, output_dim)\n",
    "    \n",
    "#     def forward(self, x):\n",
    "#         x = torch.nn.functional.relu(self.layer_1(x))\n",
    "#         x = torch.nn.functional.relu(self.layer_2(x))\n",
    "#         x = self.layer_3(x)\n",
    "\n",
    "#         return x\n",
    "    \n",
    "# model = NeuralNetwork(input_dim, hidden_dim1, hidden_dim2, output_dim)\n",
    "\n",
    "class CNN(nn.Module):   #use CNN because input is image-like (4x4 grid)\n",
    "    def __init__(self, output_dim=4):\n",
    "        super(CNN, self).__init__()\n",
    "        self.conv1 = nn.Conv2d(1, 64, kernel_size=2, stride=1)\n",
    "        self.conv2 = nn.Conv2d(64, 128, kernel_size=2, stride=1)\n",
    "        self.fc1 = nn.Linear(128 * 2 * 2, 128)  # final output size after convs\n",
    "        self.fc2 = nn.Linear(128, output_dim)\n",
    "    \n",
    "    def forward(self, x):\n",
    "        x = torch.relu(self.conv1(x))\n",
    "        x = torch.relu(self.conv2(x))\n",
    "        x = x.view(x.size(0), -1)\n",
    "        x = torch.relu(self.fc1(x))\n",
    "        return self.fc2(x)\n",
    "\n",
    "model = CNN(output_dim=output_dim)\n",
    "print(model)    "
   ]
  },
  {
   "cell_type": "markdown",
   "metadata": {},
   "source": [
    "# Training"
   ]
  },
  {
   "cell_type": "code",
   "execution_count": 4,
   "metadata": {},
   "outputs": [
    {
     "name": "stdout",
     "output_type": "stream",
     "text": [
      "Epoch 1/30\n",
      "Epoch 2/30\n",
      "Epoch 3/30\n",
      "Epoch 4/30\n",
      "Epoch 5/30\n",
      "Epoch 6/30\n",
      "Epoch 7/30\n",
      "Epoch 8/30\n",
      "Epoch 9/30\n",
      "Epoch 10/30\n",
      "Epoch 11/30\n",
      "Epoch 12/30\n",
      "Epoch 13/30\n",
      "Epoch 14/30\n",
      "Epoch 15/30\n",
      "Epoch 16/30\n",
      "Epoch 17/30\n",
      "Epoch 18/30\n",
      "Epoch 19/30\n",
      "Epoch 20/30\n",
      "Epoch 21/30\n",
      "Epoch 22/30\n",
      "Epoch 23/30\n",
      "Epoch 24/30\n",
      "Epoch 25/30\n",
      "Epoch 26/30\n",
      "Epoch 27/30\n",
      "Epoch 28/30\n",
      "Epoch 29/30\n",
      "Epoch 30/30\n",
      "DONE!!! :3\n"
     ]
    }
   ],
   "source": [
    "learning_rate = 0.001\n",
    "\n",
    "loss_fn = nn.CrossEntropyLoss()\n",
    "\n",
    "optimizer = torch.optim.Adam(model.parameters(), lr=learning_rate)\n",
    "\n",
    "num_epochs = 30\n",
    "\n",
    "for epoch in range(num_epochs):\n",
    "    epoch_loss = 0.0\n",
    "    batch_count = 0\n",
    "    for X, y in train_dataloader:\n",
    "        optimizer.zero_grad()\n",
    "        pred = model(X)\n",
    "        loss = loss_fn(pred, y.long())\n",
    "        loss.backward()\n",
    "        optimizer.step()\n",
    "        epoch_loss += loss.item()\n",
    "        batch_count += 1\n",
    "    print(f\"Epoch {epoch+1}/{num_epochs}\")\n",
    "\n",
    "\n",
    "print(\"DONE!!! :3\")"
   ]
  },
  {
   "cell_type": "markdown",
   "metadata": {},
   "source": [
    "# Predictions"
   ]
  },
  {
   "cell_type": "code",
   "execution_count": 5,
   "metadata": {},
   "outputs": [
    {
     "name": "stdout",
     "output_type": "stream",
     "text": [
      "Accuracy: 85%\n",
      "Prediction distribution:\n",
      "0:  31809\n",
      "1:  33046\n",
      "2:  31528\n",
      "3:  32032\n"
     ]
    }
   ],
   "source": [
    "import itertools\n",
    "\n",
    "y_pred = []\n",
    "y_test = []\n",
    "correct = 0\n",
    "total = 0\n",
    "results = [0,0,0,0]\n",
    "\n",
    "\"\"\"\n",
    "We're not training so we don't need to calculate the gradients for our outputs\n",
    "\"\"\"\n",
    "with torch.no_grad():\n",
    "    for X, y in test_dataloader:\n",
    "        outputs = model(X)  # Get model outputs\n",
    "        _, predicted = torch.max(outputs, 1)\n",
    "        y_pred.extend(predicted.tolist())\n",
    "        y_test.extend(y.tolist())\n",
    "        correct += (predicted == y).sum().item()\n",
    "        total += y.size(0)\n",
    "        for pred in predicted:\n",
    "            results[pred.item()] += 1\n",
    "\n",
    "print(f'Accuracy: {100 * correct // total}%')\n",
    "print(f'Prediction distribution:')\n",
    "print(f'0:  {results[0]}')\n",
    "print(f'1:  {results[1]}')\n",
    "print(f'2:  {results[2]}')\n",
    "print(f'3:  {results[3]}')"
   ]
  },
  {
   "cell_type": "markdown",
   "metadata": {},
   "source": [
    "# Game Enviornment"
   ]
  },
  {
   "cell_type": "code",
   "execution_count": 7,
   "metadata": {},
   "outputs": [],
   "source": [
    "import random\n",
    "from collections import deque\n",
    "import math\n",
    "\n",
    "BOARD_SIZE = 4\n",
    "ACTIONS = [0, 1, 2, 3]  # up, down, left, right\n",
    "\n",
    "def add_tile(board):\n",
    "    empty = list(zip(*np.where(board == 0)))\n",
    "    if not empty:   # no empty cells\n",
    "        return board\n",
    "    y, x = random.choice(empty)\n",
    "    board[y][x] = 1 if random.random() < 0.9 else 2\n",
    "    return board\n",
    "\n",
    "def move_right(board):\n",
    "    new_board = np.zeros_like(board)\n",
    "    reward = 0\n",
    "    for row in range(BOARD_SIZE):\n",
    "        tiles = board[row][board[row] != 0] # collect non-zero tiles\n",
    "        merged = []\n",
    "        skip = False\n",
    "        for i in range(len(tiles)):\n",
    "            if skip:\n",
    "                skip = False\n",
    "                continue\n",
    "            if i + 1 < len(tiles) and tiles[i] == tiles[i+1]:\n",
    "                merged.append(tiles[i] + 1)\n",
    "                reward += 2 ** (tiles[i] + 1)  # calculate reward\n",
    "                skip = True\n",
    "            else:\n",
    "                merged.append(tiles[i])\n",
    "        new_board[row][:len(merged)] = merged\n",
    "    return new_board, reward\n",
    "\n",
    "def move(board, direction): \n",
    "    if direction == 0:  # up\n",
    "        board = np.rot90(board, 1)\n",
    "        new_board, reward = move_right(board)   #reuse this func to death bc im lazy lmao\n",
    "        new_board = np.rot90(new_board, -1)\n",
    "    elif direction == 1:  # down\n",
    "        board = np.rot90(board, -1)\n",
    "        new_board, reward = move_right(board)\n",
    "        new_board = np.rot90(new_board)\n",
    "    elif direction == 2:  # left\n",
    "        new_board, reward = move_right(board)\n",
    "    elif direction == 3:  # right\n",
    "        board = np.fliplr(board)\n",
    "        new_board, reward = move_right(board)\n",
    "        new_board = np.fliplr(new_board)\n",
    "    else:\n",
    "        raise ValueError(\"Invalid direction\")\n",
    "    return new_board, reward\n",
    "\n",
    "def is_game_over(board):\n",
    "    for a in ACTIONS:\n",
    "        new_board, _ = move(board, a)\n",
    "        if not np.array_equal(new_board, board):\n",
    "            return False\n",
    "    return True\n",
    "\n",
    "class Game2048Env:\n",
    "    def reset(self):\n",
    "        self.board = np.zeros((BOARD_SIZE, BOARD_SIZE), dtype=int)\n",
    "        self.board = add_tile(add_tile(self.board))\n",
    "        return self.get_state()\n",
    "\n",
    "    def step(self, action):\n",
    "        # old_max_tile = np.max(self.board)\n",
    "        old_board = self.board.copy()\n",
    "        self.board, reward = move(self.board, action)\n",
    "        changed = not np.array_equal(self.board, old_board)\n",
    "        if changed: # only add a tile if the board changed\n",
    "            self.board = add_tile(self.board)\n",
    "        # new_max_tile = np.max(self.board)\n",
    "        # reward = (new_max_tile > old_max_tile)  # reward for increasing max tile, small reward for merging\n",
    "        done = is_game_over(self.board)\n",
    "        return self.get_state(), reward, done\n",
    "\n",
    "    def get_state(self):\n",
    "        board = self.board.copy()\n",
    "        board = np.where(board > 0, board, 0)\n",
    "        board = board.astype(np.float32)\n",
    "        board = board.reshape(1, 1, 4, 4)\n",
    "        return board"
   ]
  },
  {
   "cell_type": "markdown",
   "metadata": {},
   "source": [
    "# Finetuning"
   ]
  },
  {
   "cell_type": "code",
   "execution_count": null,
   "metadata": {},
   "outputs": [],
   "source": [
    "from torch.distributions import Categorical\n",
    "\n",
    "model.eval()\n",
    "env = Game2048Env()\n",
    "optimizer = torch.optim.Adam(model.parameters(), lr=1e-4)\n",
    "num_episodes = 10000\n",
    "baseline = 0\n",
    "\n",
    "for episode in range(num_episodes):\n",
    "    state = env.reset()\n",
    "    done = False\n",
    "\n",
    "    valid_log_probs = []\n",
    "    finalscore = 0\n",
    "\n",
    "    while not done:\n",
    "        state_tensor = torch.tensor(state, dtype=torch.float32).reshape(1, 1, 4, 4)\n",
    "        logits = model(state_tensor)\n",
    "\n",
    "        ranked_actions = torch.argsort(logits, dim=1, descending=True)[0]   #sort by how liikely move is\n",
    "\n",
    "        original_board = env.board.copy()\n",
    "        final_action = None\n",
    "        selected_log_prob = None\n",
    "\n",
    "        movecount = 0   #tracks if the first move was valid \n",
    "        for action in ranked_actions:\n",
    "            test_board, _ = move(original_board.copy(), action.item())\n",
    "            if not np.array_equal(test_board, original_board):\n",
    "                final_action = action.item()\n",
    "                dist = Categorical(logits=logits)\n",
    "                selected_log_prob = dist.log_prob(action)\n",
    "                break\n",
    "            movecount += 1\n",
    "\n",
    "        if final_action is None:    #game is stuck, skip (shouldn't happen)\n",
    "            print(\"SOMETHING WRONG AAAAAUUEEUAGHGEUGHHH\")\n",
    "            break\n",
    "\n",
    "        state, score, done = env.step(final_action)\n",
    "        valid_log_probs.append(selected_log_prob)\n",
    "        finalscore += score\n",
    "\n",
    "    # use baseline to force games to improve\n",
    "    baseline = 0.95 * baseline + 0.05 * finalscore\n",
    "    improvement= finalscore - baseline + 0.1 * len(valid_log_probs)\n",
    "\n",
    "    loss = 0\n",
    "    for log_prob in valid_log_probs:\n",
    "        loss -= log_prob * improvement\n",
    "\n",
    "    if episode % 50 == 49:\n",
    "        print(f\"Episode {episode+1}, Max Tile: {env.board.max()}, Final Score: {finalscore},  Loss: {loss.item():.2f}\")\n",
    "\n",
    "    optimizer.zero_grad()\n",
    "    loss.backward()\n",
    "    optimizer.step()"
   ]
  },
  {
   "cell_type": "markdown",
   "metadata": {},
   "source": [
    "# Export to ONNX"
   ]
  },
  {
   "cell_type": "code",
   "execution_count": 8,
   "metadata": {},
   "outputs": [],
   "source": [
    "import torch.onnx\n",
    "dummy_input = torch.randn(1, 1, 4, 4) #batch, channels, height, width for cnn\n",
    "torch.onnx.export(model, dummy_input, \"2048_ai.onnx\", input_names=[\"input\"], output_names=[\"output\"])"
   ]
  },
  {
   "cell_type": "markdown",
   "metadata": {},
   "source": [
    "# Convert ONNX to Tensorflow to Tensorflow.js\n",
    "\n",
    "the package versions need to be really specific or else it crashes and burns\n",
    "\n",
    "make a new virtual env with the following:\\\n",
    "`python3.9 -m venv tfenv`\n",
    "\n",
    "run this bash script to convert to Tensorflow:\\\n",
    "`pip install tensorflow==2.13.0 keras==2.13.1 onnx==1.14.0 onnx-tf==1.10.0 protobuf==3.20.3 tensorflow-probability==0.20.0 && onnx-tf convert -i 2048_ai.onnx -o 2048_ai_tf`\n",
    "\n",
    "and then this bash script to convert from Tensorflow to Tensorflow.js:\\\n",
    "`pip install tensorflowjs==4.18.0 && tensorflowjs_converter --input_format=tf_saved_model --output_format=tfjs_graph_model 2048_ai_tf/ 2048_ai_tfjs/`"
   ]
  }
 ],
 "metadata": {
  "kernelspec": {
   "display_name": "venv",
   "language": "python",
   "name": "python3"
  },
  "language_info": {
   "codemirror_mode": {
    "name": "ipython",
    "version": 3
   },
   "file_extension": ".py",
   "mimetype": "text/x-python",
   "name": "python",
   "nbconvert_exporter": "python",
   "pygments_lexer": "ipython3",
   "version": "3.13.5"
  }
 },
 "nbformat": 4,
 "nbformat_minor": 2
}
