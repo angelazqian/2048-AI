{
 "cells": [
  {
   "cell_type": "markdown",
   "metadata": {},
   "source": [
    "# Cherrypick good moves, duplicate in 4 variations\n",
    "**Rotations (x2):** the game board is rotated by $0 ^\\circ$ and $180 ^\\circ$\\\n",
    "**Mirrors (x2):** each rotated board is then mirrored horizontally"
   ]
  },
  {
   "cell_type": "markdown",
   "metadata": {},
   "source": [
    "# Rotations"
   ]
  },
  {
   "cell_type": "code",
   "execution_count": 1,
   "metadata": {
    "execution": {
     "iopub.execute_input": "2025-08-22T02:52:14.427165Z",
     "iopub.status.busy": "2025-08-22T02:52:14.426884Z",
     "iopub.status.idle": "2025-08-22T02:52:14.480876Z",
     "shell.execute_reply": "2025-08-22T02:52:14.480526Z"
    }
   },
   "outputs": [],
   "source": [
    "import os\n",
    "import json\n",
    "import numpy as np\n",
    "\n",
    "def rotate_cells(state):\n",
    "    grid = np.array(state).reshape(4, 4)\n",
    "    rotated_grid = np.rot90(grid, k=2)  #rotate 180deg\n",
    "    return rotated_grid.flatten().tolist()\n",
    "\n",
    "def rotate_file(input_path, output_path):\n",
    "    with open(input_path, 'r') as infile, open(output_path, 'w') as outfile:\n",
    "        for line in infile:\n",
    "            json_obj = json.loads(line)\n",
    "            max_value = max(json_obj['state'])\n",
    "            if (max_value < 512):\n",
    "                continue\n",
    "            json_obj['state'] = rotate_cells(json_obj['state'])\n",
    "            json_obj['action'] = (json_obj['action'] + 1) % 4\n",
    "            outfile.write(json.dumps(json_obj) + '\\n')"
   ]
  },
  {
   "cell_type": "markdown",
   "metadata": {},
   "source": [
    "# Mirrors"
   ]
  },
  {
   "cell_type": "code",
   "execution_count": 2,
   "metadata": {
    "execution": {
     "iopub.execute_input": "2025-08-22T02:52:14.482773Z",
     "iopub.status.busy": "2025-08-22T02:52:14.482593Z",
     "iopub.status.idle": "2025-08-22T02:52:14.485720Z",
     "shell.execute_reply": "2025-08-22T02:52:14.485414Z"
    }
   },
   "outputs": [],
   "source": [
    "def mirror_cells(state):\n",
    "    grid = np.array(state).reshape(4, 4)\n",
    "    mirrored_grid = np.fliplr(grid)  # mirror horizontally\n",
    "    return mirrored_grid.flatten().tolist()\n",
    "\n",
    "def mirror_file(input_path, output_path):\n",
    "    with open(input_path, 'r') as infile, open(output_path, 'w') as outfile:\n",
    "        for line in infile:\n",
    "            mirdirs = [0, 3, 2, 1]\n",
    "            json_obj = json.loads(line)\n",
    "            max_value = max(json_obj['state'])\n",
    "            if (max_value < 512):\n",
    "                continue\n",
    "            json_obj['state'] = mirror_cells(json_obj['state'])\n",
    "            json_obj['action'] = mirdirs[json_obj['action']]\n",
    "            outfile.write(json.dumps(json_obj) + '\\n')"
   ]
  },
  {
   "cell_type": "markdown",
   "metadata": {},
   "source": [
    "# Cherrypick"
   ]
  },
  {
   "cell_type": "code",
   "execution_count": 3,
   "metadata": {
    "execution": {
     "iopub.execute_input": "2025-08-22T02:52:14.487329Z",
     "iopub.status.busy": "2025-08-22T02:52:14.487189Z",
     "iopub.status.idle": "2025-08-22T02:52:14.489432Z",
     "shell.execute_reply": "2025-08-22T02:52:14.489125Z"
    }
   },
   "outputs": [],
   "source": [
    "evil = 2\n",
    "\n",
    "def pick_file(input_path, output_path):\n",
    "    with open(input_path, 'r') as infile, open(output_path, 'w') as outfile:\n",
    "        for line in infile:\n",
    "            json_obj = json.loads(line)\n",
    "            if (json_obj['action'] != evil):\n",
    "                outfile.write(json.dumps(json_obj) + '\\n')"
   ]
  },
  {
   "cell_type": "markdown",
   "metadata": {},
   "source": [
    "# Process Files"
   ]
  },
  {
   "cell_type": "code",
   "execution_count": 4,
   "metadata": {
    "execution": {
     "iopub.execute_input": "2025-08-22T02:52:14.490841Z",
     "iopub.status.busy": "2025-08-22T02:52:14.490739Z",
     "iopub.status.idle": "2025-08-22T02:52:21.759995Z",
     "shell.execute_reply": "2025-08-22T02:52:21.759596Z"
    }
   },
   "outputs": [
    {
     "name": "stdout",
     "output_type": "stream",
     "text": [
      "processed game-6.jsonl\n"
     ]
    },
    {
     "name": "stdout",
     "output_type": "stream",
     "text": [
      "processed game-22.jsonl\n"
     ]
    },
    {
     "name": "stdout",
     "output_type": "stream",
     "text": [
      "processed game-4.jsonl\n",
      "processed game-20.jsonl\n"
     ]
    },
    {
     "name": "stdout",
     "output_type": "stream",
     "text": [
      "processed game-24.jsonl\n"
     ]
    },
    {
     "name": "stdout",
     "output_type": "stream",
     "text": [
      "processed game-19.jsonl\n",
      "processed game-2.jsonl\n"
     ]
    },
    {
     "name": "stdout",
     "output_type": "stream",
     "text": [
      "processed game-21.jsonl\n"
     ]
    },
    {
     "name": "stdout",
     "output_type": "stream",
     "text": [
      "processed game-5.jsonl\n",
      "processed game-23.jsonl\n"
     ]
    },
    {
     "name": "stdout",
     "output_type": "stream",
     "text": [
      "processed game-7.jsonl\n",
      "processed game-3.jsonl\n",
      "processed game-18.jsonl\n"
     ]
    },
    {
     "name": "stdout",
     "output_type": "stream",
     "text": [
      "processed game-1.jsonl\n",
      "processed game-25.jsonl\n"
     ]
    },
    {
     "name": "stdout",
     "output_type": "stream",
     "text": [
      "processed game-14.jsonl\n",
      "processed game-16.jsonl\n",
      "processed game-12.jsonl\n"
     ]
    },
    {
     "name": "stdout",
     "output_type": "stream",
     "text": [
      "processed save-2.jsonl\n",
      "processed game-9.jsonl\n",
      "processed game-10.jsonl\n",
      "processed easy-game.jsonl\n"
     ]
    },
    {
     "name": "stdout",
     "output_type": "stream",
     "text": [
      "processed game-17.jsonl\n",
      "processed game-15.jsonl\n"
     ]
    },
    {
     "name": "stdout",
     "output_type": "stream",
     "text": [
      "processed game-11.jsonl\n",
      "processed game-8.jsonl\n"
     ]
    },
    {
     "name": "stdout",
     "output_type": "stream",
     "text": [
      "processed save-1.jsonl\n",
      "processed game-13.jsonl\n"
     ]
    }
   ],
   "source": [
    "raw_dir = 'data/raw'\n",
    "zero_dir = 'data/rot0'\n",
    "os.makedirs(zero_dir, exist_ok=True)\n",
    "if os.path.exists(\"data/.DS_Store\"):\n",
    "    os.remove(\"data/.DS_Store\")\n",
    "if os.path.exists(\"data/raw/.DS_Store\"):\n",
    "    os.remove(\"data/raw/.DS_Store\")\n",
    "\n",
    "for in_name in os.listdir(raw_dir):\n",
    "    in_path = os.path.join(raw_dir, in_name)\n",
    "    if os.path.isfile(in_path) and in_name.endswith('.jsonl'):\n",
    "        print(f\"processed {in_name}\")\n",
    "        output_file_name = f\"rot0_{in_name}\"\n",
    "        output_path = os.path.join(zero_dir, output_file_name)\n",
    "        pick_file(in_path, output_path)\n",
    "        in_path = output_path\n",
    "        for i in range(2):\n",
    "            if (i != 0):\n",
    "                out_dir = f\"data/rot{i*180}\"\n",
    "                os.makedirs(out_dir, exist_ok=True)\n",
    "                output_file_name = f\"rot{i*180}_{in_name}\"\n",
    "                output_path = os.path.join(out_dir, output_file_name)\n",
    "                rotate_file(in_path, output_path)\n",
    "                # print(f\"created {output_file_name}\")\n",
    "                in_path = output_path\n",
    "\n",
    "            out_dir = f\"data/rot{i*180}-mir\"\n",
    "            os.makedirs(out_dir, exist_ok=True)\n",
    "            output_file_name = f\"rot{i*180}_mir_{in_name}\"\n",
    "            output_path = os.path.join(out_dir, output_file_name)\n",
    "            mirror_file(in_path, output_path)\n",
    "            # print(f\"created {output_file_name}\")\n",
    "                "
   ]
  }
 ],
 "metadata": {
  "kernelspec": {
   "display_name": "venv",
   "language": "python",
   "name": "python3"
  },
  "language_info": {
   "codemirror_mode": {
    "name": "ipython",
    "version": 3
   },
   "file_extension": ".py",
   "mimetype": "text/x-python",
   "name": "python",
   "nbconvert_exporter": "python",
   "pygments_lexer": "ipython3",
   "version": "3.13.5"
  }
 },
 "nbformat": 4,
 "nbformat_minor": 2
}
