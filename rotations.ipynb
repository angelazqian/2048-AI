{
 "cells": [
  {
   "cell_type": "markdown",
   "metadata": {},
   "source": [
    "# Duplicate collected data in all 8 variations\n",
    "**Rotations (x4):** the game board is rotated by $0 ^\\circ$, $90 ^\\circ$, $180 ^\\circ$, and $270 ^\\circ$\\\n",
    "**Mirrors (x2):** each rotated board is then mirrored vertically"
   ]
  },
  {
   "cell_type": "code",
   "execution_count": 5,
   "metadata": {},
   "outputs": [
    {
     "name": "stdout",
     "output_type": "stream",
     "text": [
      "created rot90_game-6.jsonl\n",
      "created rot90_game-4.jsonl\n",
      "created rot90_game-2.jsonl\n",
      "created rot90_game-5.jsonl\n",
      "created rot90_game-7.jsonl\n",
      "created rot90_game-3.jsonl\n",
      "created rot90_sanity.jsonl\n",
      "created rot90_game-1.jsonl\n",
      "created rot90_game-8.jsonl\n"
     ]
    }
   ],
   "source": [
    "import os\n",
    "import json\n",
    "import numpy as np\n",
    "\n",
    "def rotate_cells(state):\n",
    "    grid = np.array(state).reshape(4, 4)\n",
    "    rotated_grid = np.rot90(grid, k=-1)  #rotate 90deg clockwise\n",
    "    return rotated_grid.flatten().tolist()\n",
    "\n",
    "def process_jsonl_file(input_path, output_path):\n",
    "    with open(input_path, 'r') as infile, open(output_path, 'w') as outfile:\n",
    "        for line in infile:\n",
    "            json_obj = json.loads(line)\n",
    "            json_obj['state'] = rotate_cells(json_obj['state'])\n",
    "            outfile.write(json.dumps(json_obj) + '\\n')\n",
    "\n",
    "rot90_dir = 'data/rot90'\n",
    "raw_dir = 'data/raw'\n",
    "if not os.path.exists(rot90_dir):\n",
    "    os.makedirs(rot90_dir)\n",
    "\n",
    "for file_name in os.listdir(raw_dir):\n",
    "    file_path = os.path.join(raw_dir, file_name)\n",
    "    if os.path.isfile(file_path) and file_name.endswith('.jsonl'):\n",
    "        output_file_name = f\"rot90_{file_name}\"\n",
    "        output_path = os.path.join(rot90_dir, output_file_name)\n",
    "        process_jsonl_file(file_path, output_path)\n",
    "        print(f\"created {output_file_name}\")"
   ]
  }
 ],
 "metadata": {
  "kernelspec": {
   "display_name": "venv",
   "language": "python",
   "name": "python3"
  },
  "language_info": {
   "codemirror_mode": {
    "name": "ipython",
    "version": 3
   },
   "file_extension": ".py",
   "mimetype": "text/x-python",
   "name": "python",
   "nbconvert_exporter": "python",
   "pygments_lexer": "ipython3",
   "version": "3.13.5"
  }
 },
 "nbformat": 4,
 "nbformat_minor": 2
}
