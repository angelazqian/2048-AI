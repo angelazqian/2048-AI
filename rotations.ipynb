{
 "cells": [
  {
   "cell_type": "markdown",
   "metadata": {},
   "source": [
    "# Duplicate collected data in all 8 variations\n",
    "**Rotations (x4):** the game board is rotated by $0 ^\\circ$, $90 ^\\circ$, $180 ^\\circ$, and $270 ^\\circ$\\\n",
    "**Mirrors (x2):** each rotated board is then mirrored vertically"
   ]
  },
  {
   "cell_type": "markdown",
   "metadata": {},
   "source": [
    "# Rotations"
   ]
  },
  {
   "cell_type": "code",
   "execution_count": 1,
   "metadata": {},
   "outputs": [],
   "source": [
    "import os\n",
    "import json\n",
    "import numpy as np\n",
    "\n",
    "def rotate_cells(state):\n",
    "    grid = np.array(state).reshape(4, 4)\n",
    "    rotated_grid = np.rot90(grid, k=-1)  #rotate 90deg clockwise\n",
    "    return rotated_grid.flatten().tolist()\n",
    "\n",
    "def rotate_file(input_path, output_path):\n",
    "    with open(input_path, 'r') as infile, open(output_path, 'w') as outfile:\n",
    "        for line in infile:\n",
    "            json_obj = json.loads(line)\n",
    "            json_obj['state'] = rotate_cells(json_obj['state'])\n",
    "            json_obj['action'] = (json_obj['action'] + 1) % 4\n",
    "            outfile.write(json.dumps(json_obj) + '\\n')"
   ]
  },
  {
   "cell_type": "markdown",
   "metadata": {},
   "source": [
    "# Mirrors"
   ]
  },
  {
   "cell_type": "code",
   "execution_count": 2,
   "metadata": {},
   "outputs": [],
   "source": [
    "def mirror_cells(state):\n",
    "    grid = np.array(state).reshape(4, 4)\n",
    "    mirrored_grid = np.fliplr(grid)  # mirror horizontally\n",
    "    return mirrored_grid.flatten().tolist()\n",
    "\n",
    "def mirror_file(input_path, output_path):\n",
    "    with open(input_path, 'r') as infile, open(output_path, 'w') as outfile:\n",
    "        for line in infile:\n",
    "            mirdirs = [0, 3, 2, 1]\n",
    "            json_obj = json.loads(line)\n",
    "            json_obj['state'] = mirror_cells(json_obj['state'])\n",
    "            json_obj['action'] = mirdirs[json_obj['action']]\n",
    "            outfile.write(json.dumps(json_obj) + '\\n')"
   ]
  },
  {
   "cell_type": "markdown",
   "metadata": {},
   "source": [
    "# Process Files"
   ]
  },
  {
   "cell_type": "code",
   "execution_count": 3,
   "metadata": {},
   "outputs": [
    {
     "name": "stdout",
     "output_type": "stream",
     "text": [
      "created rot0_mir_game-6.jsonl\n",
      "created rot90_game-6.jsonl\n",
      "created rot90_mir_game-6.jsonl\n",
      "created rot180_game-6.jsonl\n",
      "created rot180_mir_game-6.jsonl\n",
      "created rot270_game-6.jsonl\n",
      "created rot270_mir_game-6.jsonl\n",
      "created rot0_mir_game-4.jsonl\n",
      "created rot90_game-4.jsonl\n",
      "created rot90_mir_game-4.jsonl\n",
      "created rot180_game-4.jsonl\n",
      "created rot180_mir_game-4.jsonl\n",
      "created rot270_game-4.jsonl\n",
      "created rot270_mir_game-4.jsonl\n",
      "created rot0_mir_game-2.jsonl\n",
      "created rot90_game-2.jsonl\n",
      "created rot90_mir_game-2.jsonl\n",
      "created rot180_game-2.jsonl\n",
      "created rot180_mir_game-2.jsonl\n",
      "created rot270_game-2.jsonl\n",
      "created rot270_mir_game-2.jsonl\n",
      "created rot0_mir_game-5.jsonl\n",
      "created rot90_game-5.jsonl\n",
      "created rot90_mir_game-5.jsonl\n",
      "created rot180_game-5.jsonl\n",
      "created rot180_mir_game-5.jsonl\n",
      "created rot270_game-5.jsonl\n",
      "created rot270_mir_game-5.jsonl\n",
      "created rot0_mir_game-7.jsonl\n",
      "created rot90_game-7.jsonl\n",
      "created rot90_mir_game-7.jsonl\n",
      "created rot180_game-7.jsonl\n",
      "created rot180_mir_game-7.jsonl\n",
      "created rot270_game-7.jsonl\n",
      "created rot270_mir_game-7.jsonl\n",
      "created rot0_mir_game-3.jsonl\n",
      "created rot90_game-3.jsonl\n",
      "created rot90_mir_game-3.jsonl\n",
      "created rot180_game-3.jsonl\n",
      "created rot180_mir_game-3.jsonl\n",
      "created rot270_game-3.jsonl\n",
      "created rot270_mir_game-3.jsonl\n",
      "created rot0_mir_game-1.jsonl\n",
      "created rot90_game-1.jsonl\n",
      "created rot90_mir_game-1.jsonl\n",
      "created rot180_game-1.jsonl\n",
      "created rot180_mir_game-1.jsonl\n",
      "created rot270_game-1.jsonl\n",
      "created rot270_mir_game-1.jsonl\n",
      "created rot0_mir_game-9.jsonl\n",
      "created rot90_game-9.jsonl\n",
      "created rot90_mir_game-9.jsonl\n",
      "created rot180_game-9.jsonl\n",
      "created rot180_mir_game-9.jsonl\n",
      "created rot270_game-9.jsonl\n",
      "created rot270_mir_game-9.jsonl\n",
      "created rot0_mir_game-10.jsonl\n",
      "created rot90_game-10.jsonl\n",
      "created rot90_mir_game-10.jsonl\n",
      "created rot180_game-10.jsonl\n",
      "created rot180_mir_game-10.jsonl\n",
      "created rot270_game-10.jsonl\n",
      "created rot270_mir_game-10.jsonl\n",
      "created rot0_mir_easy-game.jsonl\n",
      "created rot90_easy-game.jsonl\n",
      "created rot90_mir_easy-game.jsonl\n",
      "created rot180_easy-game.jsonl\n",
      "created rot180_mir_easy-game.jsonl\n",
      "created rot270_easy-game.jsonl\n",
      "created rot270_mir_easy-game.jsonl\n",
      "created rot0_mir_game-8.jsonl\n",
      "created rot90_game-8.jsonl\n",
      "created rot90_mir_game-8.jsonl\n",
      "created rot180_game-8.jsonl\n",
      "created rot180_mir_game-8.jsonl\n",
      "created rot270_game-8.jsonl\n",
      "created rot270_mir_game-8.jsonl\n"
     ]
    }
   ],
   "source": [
    "raw_dir = 'data/raw'\n",
    "if os.path.exists(\"data/.DS_Store\"):\n",
    "    os.remove(\"data/.DS_Store\")\n",
    "if os.path.exists(\"data/raw/.DS_Store\"):\n",
    "    os.remove(\"data/raw/.DS_Store\")\n",
    "\n",
    "for in_name in os.listdir(raw_dir):\n",
    "    in_path = os.path.join(raw_dir, in_name)\n",
    "    if os.path.isfile(in_path) and in_name.endswith('.jsonl'):\n",
    "        for i in range(4):\n",
    "            if (i != 0):\n",
    "                out_dir = f\"data/rot{i*90}\"\n",
    "                if not os.path.exists(out_dir):\n",
    "                    os.makedirs(out_dir)\n",
    "                output_file_name = f\"rot{i*90}_{in_name}\"\n",
    "                output_path = os.path.join(out_dir, output_file_name)\n",
    "                rotate_file(in_path, output_path)\n",
    "                print(f\"created {output_file_name}\")\n",
    "                in_path = output_path\n",
    "\n",
    "            out_dir = f\"data/rot{i*90}-mir\"\n",
    "            if not os.path.exists(out_dir):\n",
    "                os.makedirs(out_dir)\n",
    "            output_file_name = f\"rot{i*90}_mir_{in_name}\"\n",
    "            output_path = os.path.join(out_dir, output_file_name)\n",
    "            mirror_file(in_path, output_path)\n",
    "            print(f\"created {output_file_name}\")\n",
    "                "
   ]
  }
 ],
 "metadata": {
  "kernelspec": {
   "display_name": "venv",
   "language": "python",
   "name": "python3"
  },
  "language_info": {
   "codemirror_mode": {
    "name": "ipython",
    "version": 3
   },
   "file_extension": ".py",
   "mimetype": "text/x-python",
   "name": "python",
   "nbconvert_exporter": "python",
   "pygments_lexer": "ipython3",
   "version": "3.13.5"
  }
 },
 "nbformat": 4,
 "nbformat_minor": 2
}
